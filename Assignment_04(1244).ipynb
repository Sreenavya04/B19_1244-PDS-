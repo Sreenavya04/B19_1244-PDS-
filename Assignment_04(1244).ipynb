{
  "nbformat": 4,
  "nbformat_minor": 0,
  "metadata": {
    "colab": {
      "provenance": [],
      "authorship_tag": "ABX9TyM6e1Q4ihnBXy9XDKdVMgcb",
      "include_colab_link": true
    },
    "kernelspec": {
      "name": "python3",
      "display_name": "Python 3"
    },
    "language_info": {
      "name": "python"
    }
  },
  "cells": [
    {
      "cell_type": "markdown",
      "metadata": {
        "id": "view-in-github",
        "colab_type": "text"
      },
      "source": [
        "<a href=\"https://colab.research.google.com/github/Sreenavya04/B19_1244-PDS-/blob/main/Assignment_04(1244).ipynb\" target=\"_parent\"><img src=\"https://colab.research.google.com/assets/colab-badge.svg\" alt=\"Open In Colab\"/></a>"
      ]
    },
    {
      "cell_type": "markdown",
      "source": [
        "Online Course Feedback"
      ],
      "metadata": {
        "id": "4m4Ti57jafK_"
      }
    },
    {
      "cell_type": "code",
      "execution_count": 7,
      "metadata": {
        "colab": {
          "base_uri": "https://localhost:8080/"
        },
        "id": "5fFgbLpmRjOd",
        "outputId": "87677e09-e478-443c-de69-1c156e3f8a26"
      },
      "outputs": [
        {
          "output_type": "stream",
          "name": "stdout",
          "text": [
            "Filtered Feedbacks:\n",
            "\n",
            "Student: S201 → Feedback: Very helpful course!\n",
            "Student: S202 → Feedback: Easy to understand explanations.\n",
            "Student: S207 → Feedback: Assignments were great!\n",
            "Student: S208 → Feedback: Good mix of concepts and code.\n",
            "Student: S210 → Feedback: Instructor explained clearly.\n",
            "Student: S213 → Feedback: One of the best courses online.\n",
            "Student: S215 → Feedback: Concepts were well explained.\n"
          ]
        }
      ],
      "source": [
        "import pandas as pd\n",
        "\n",
        "# Sample dataset\n",
        "records = {\n",
        "    \"Student_ID\": [f\"S{200+i}\" for i in range(1, 16)],\n",
        "    \"Subject\": [\n",
        "        \"Python Basics\", \"Python Basics\", \"Machine Learning\",\n",
        "        \"Python Basics\", \"Deep Learning\", \"Python Basics\",\n",
        "        \"Python Basics\", \"Python Basics\", \"Machine Learning\",\n",
        "        \"Python Basics\", \"Deep Learning\", \"Python Basics\",\n",
        "        \"Python Basics\", \"Python Basics\", \"Python Basics\"\n",
        "    ],\n",
        "    \"Score\": [5, 4, None, 3, 5, 2, 5, 4, 3, 5, 4, None, 5, 3, 4],\n",
        "    \"Feedbacks\": [\n",
        "        \"Very helpful course!\",\n",
        "        \"Easy to understand explanations.\",\n",
        "        \"Too much theory, less practice.\",\n",
        "        \"Could use more coding tasks.\",\n",
        "        \"Excellent content delivery.\",\n",
        "        \"The course felt slow.\",\n",
        "        \"Assignments were great!\",\n",
        "        \"Good mix of concepts and code.\",\n",
        "        \"Content should be deeper.\",\n",
        "        \"Instructor explained clearly.\",\n",
        "        \"Very structured and useful.\",\n",
        "        \"Slides were not engaging.\",\n",
        "        \"One of the best courses online.\",\n",
        "        \"More real projects needed.\",\n",
        "        \"Concepts were well explained.\"\n",
        "    ],\n",
        "    \"Enroll_Date\": [\n",
        "        \"2025-08-01\", \"2025-08-02\", \"2025-08-03\", \"2025-08-04\", \"2025-08-05\",\n",
        "        \"2025-08-06\", \"2025-08-07\", \"2025-08-08\", \"2025-08-09\", \"2025-08-10\",\n",
        "        \"2025-08-11\", \"2025-08-12\", \"2025-08-13\", \"2025-08-14\", \"2025-08-15\"\n",
        "    ]\n",
        "}\n",
        "\n",
        "# Convert into DataFrame\n",
        "df = pd.DataFrame(records)\n",
        "\n",
        "# Remove missing values in Score\n",
        "df = df.dropna(subset=[\"Score\"])\n",
        "\n",
        "# Filter: Only \"Python Basics\" with Score >= 4\n",
        "filtered = df[(df[\"Subject\"] == \"Python Basics\") & (df[\"Score\"] >= 4)]\n",
        "\n",
        "# Display results\n",
        "print(\"Filtered Feedbacks:\\n\")\n",
        "for _, entry in filtered.iterrows():\n",
        "    print(f\"Student: {entry['Student_ID']} → Feedback: {entry['Feedbacks']}\")\n"
      ]
    },
    {
      "cell_type": "markdown",
      "source": [
        "Air Quality Monitoring Data"
      ],
      "metadata": {
        "id": "0YvUO-fuah0R"
      }
    },
    {
      "cell_type": "code",
      "source": [
        "import pandas as pd\n",
        "\n",
        "data = {\n",
        "    \"Location\": [\n",
        "        \"Delhi\", \"Mumbai\", \"Chennai\", \"Kolkata\", \"Bengaluru\",\n",
        "        \"Hyderabad\", \"Pune\", \"Ahmedabad\", \"Lucknow\", \"Jaipur\",\n",
        "        \"Patna\", \"Chandigarh\", \"Nagpur\", \"Indore\", \"Surat\"\n",
        "    ],\n",
        "    \"PM2.5\": [180, 90, None, 160, 200, 145, 170, None, 190, 85, 210, 155, None, 175, 95],\n",
        "    \"PM10\": [250, 120, 180, None, 300, 200, 280, 310, 150, 90, 330, 270, 220, 260, 110],\n",
        "    \"NO2\": [85, 40, 60, None, 95, 75, 82, 88, None, 55, 100, 81, 65, None, 72],\n",
        "    \"SO2\": [15, 10, None, 20, 25, 18, 12, 19, 22, None, 30, 16, 14, 21, 11],\n",
        "    \"Date\": [\n",
        "        \"2025-08-01\", \"2025-08-02\", \"2025-08-03\", \"2025-08-04\", \"2025-08-05\",\n",
        "        \"2025-08-06\", \"2025-08-07\", \"2025-08-08\", \"2025-08-09\", \"2025-08-10\",\n",
        "        \"2025-08-11\", \"2025-08-12\", \"2025-08-13\", \"2025-08-14\", \"2025-08-15\"\n",
        "    ]\n",
        "}\n",
        "\n",
        "df = pd.DataFrame(data)\n",
        "df.to_csv(\"air_quality.csv\", index=False)\n",
        "\n",
        "print(\"Extended dummy air_quality.csv created \\n\")\n",
        "\n",
        "df = pd.read_csv(\"air_quality.csv\")\n",
        "df = df.ffill()\n",
        "polluted_days = df[(df[\"PM2.5\"] > 150) & (df[\"NO2\"] > 80)]\n",
        "print(\"Polluted Day Records:\\n\")\n",
        "print(polluted_days[[\"Location\", \"PM2.5\", \"NO2\", \"Date\"]])\n",
        "polluted_days.to_csv(\"polluted_days.csv\", index=False)\n",
        "print(\"\\nFiltered polluted days saved to 'polluted_days.csv' \")"
      ],
      "metadata": {
        "colab": {
          "base_uri": "https://localhost:8080/"
        },
        "id": "DuIH7LfdaJik",
        "outputId": "8c19849e-9920-4a79-f50d-757390b2ca88"
      },
      "execution_count": 8,
      "outputs": [
        {
          "output_type": "stream",
          "name": "stdout",
          "text": [
            "Extended dummy air_quality.csv created \n",
            "\n",
            "Polluted Day Records:\n",
            "\n",
            "      Location  PM2.5    NO2        Date\n",
            "0        Delhi  180.0   85.0  2025-08-01\n",
            "4    Bengaluru  200.0   95.0  2025-08-05\n",
            "6         Pune  170.0   82.0  2025-08-07\n",
            "7    Ahmedabad  170.0   88.0  2025-08-08\n",
            "8      Lucknow  190.0   88.0  2025-08-09\n",
            "10       Patna  210.0  100.0  2025-08-11\n",
            "11  Chandigarh  155.0   81.0  2025-08-12\n",
            "\n",
            "Filtered polluted days saved to 'polluted_days.csv' \n"
          ]
        }
      ]
    }
  ]
}