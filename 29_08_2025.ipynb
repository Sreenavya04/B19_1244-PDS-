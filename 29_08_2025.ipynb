{
  "nbformat": 4,
  "nbformat_minor": 0,
  "metadata": {
    "colab": {
      "provenance": [],
      "authorship_tag": "ABX9TyOgCZQnjQferCGhXSqaPkNp",
      "include_colab_link": true
    },
    "kernelspec": {
      "name": "python3",
      "display_name": "Python 3"
    },
    "language_info": {
      "name": "python"
    }
  },
  "cells": [
    {
      "cell_type": "markdown",
      "metadata": {
        "id": "view-in-github",
        "colab_type": "text"
      },
      "source": [
        "<a href=\"https://colab.research.google.com/github/Sreenavya04/B19_1244-PDS-/blob/main/29_08_2025.ipynb\" target=\"_parent\"><img src=\"https://colab.research.google.com/assets/colab-badge.svg\" alt=\"Open In Colab\"/></a>"
      ]
    },
    {
      "cell_type": "code",
      "execution_count": 37,
      "metadata": {
        "colab": {
          "base_uri": "https://localhost:8080/"
        },
        "id": "DHOQztic8c3j",
        "outputId": "174db8ed-6e9f-49c6-ffe9-802b3575f72f"
      },
      "outputs": [
        {
          "output_type": "stream",
          "name": "stdout",
          "text": [
            "Pandas Series\n",
            "0    10\n",
            "1    20\n",
            "2    30\n",
            "3    40\n",
            "4    50\n",
            "dtype: int64\n"
          ]
        }
      ],
      "source": [
        "import pandas as pd\n",
        "data=[10,20,30,40,50]\n",
        "series=pd.Series(data)\n",
        "print(\"Pandas Series\")\n",
        "print(series)"
      ]
    },
    {
      "cell_type": "code",
      "source": [
        "#Custom index\n",
        "import pandas as pd\n",
        "data=[10,20,30,40,50]\n",
        "index_labels=['a','b','c','d','e']\n",
        "series=pd.Series(data,index=index_labels)\n",
        "print(\"Pandas Series\")\n",
        "print(series)"
      ],
      "metadata": {
        "colab": {
          "base_uri": "https://localhost:8080/"
        },
        "id": "toNohUpH8sCt",
        "outputId": "f71ee868-c4ef-4d0d-af43-224d605484c8"
      },
      "execution_count": 38,
      "outputs": [
        {
          "output_type": "stream",
          "name": "stdout",
          "text": [
            "Pandas Series\n",
            "a    10\n",
            "b    20\n",
            "c    30\n",
            "d    40\n",
            "e    50\n",
            "dtype: int64\n"
          ]
        }
      ]
    },
    {
      "cell_type": "code",
      "source": [
        "#Creating a dataframe\n",
        "import pandas as pd\n",
        "data={\n",
        "    'Name':['Alice','Bob','Charlie','David'],\n",
        "    'Age':[25,30,35,40],\n",
        "    'City':['Hyderabad','Delhi','Chennai','Mumbai']\n",
        "}\n",
        "df=pd.DataFrame(data)\n",
        "print(\"Pandas DataFrame\")\n",
        "print(df)\n"
      ],
      "metadata": {
        "colab": {
          "base_uri": "https://localhost:8080/"
        },
        "id": "V6hT4oMJ9H3f",
        "outputId": "c86b7fe8-5819-4dd9-8ab6-45aa9d468856"
      },
      "execution_count": 39,
      "outputs": [
        {
          "output_type": "stream",
          "name": "stdout",
          "text": [
            "Pandas DataFrame\n",
            "      Name  Age       City\n",
            "0    Alice   25  Hyderabad\n",
            "1      Bob   30      Delhi\n",
            "2  Charlie   35    Chennai\n",
            "3    David   40     Mumbai\n"
          ]
        }
      ]
    },
    {
      "cell_type": "code",
      "source": [
        "#Accesing data\n",
        "print(df['Name'])"
      ],
      "metadata": {
        "colab": {
          "base_uri": "https://localhost:8080/"
        },
        "id": "f4d_OTcv-Qet",
        "outputId": "8498683b-4c3b-4c51-a757-94da929dcf39"
      },
      "execution_count": 40,
      "outputs": [
        {
          "output_type": "stream",
          "name": "stdout",
          "text": [
            "0      Alice\n",
            "1        Bob\n",
            "2    Charlie\n",
            "3      David\n",
            "Name: Name, dtype: object\n"
          ]
        }
      ]
    },
    {
      "cell_type": "code",
      "source": [
        "#Access multiple columns\n",
        "print(df[['Name','City']])"
      ],
      "metadata": {
        "colab": {
          "base_uri": "https://localhost:8080/"
        },
        "id": "NIW9E20K-9ye",
        "outputId": "50a8e378-d7e9-4021-93ca-3b10df41c83d"
      },
      "execution_count": 41,
      "outputs": [
        {
          "output_type": "stream",
          "name": "stdout",
          "text": [
            "      Name       City\n",
            "0    Alice  Hyderabad\n",
            "1      Bob      Delhi\n",
            "2  Charlie    Chennai\n",
            "3    David     Mumbai\n"
          ]
        }
      ]
    },
    {
      "cell_type": "code",
      "source": [
        "#Access rows using index\n",
        "print(df.iloc[1])\n",
        "print(df.loc[2])"
      ],
      "metadata": {
        "colab": {
          "base_uri": "https://localhost:8080/"
        },
        "id": "LaXw9EpW_LWZ",
        "outputId": "11832a20-8cf8-469e-d553-bf8fe7c3fe39"
      },
      "execution_count": 42,
      "outputs": [
        {
          "output_type": "stream",
          "name": "stdout",
          "text": [
            "Name      Bob\n",
            "Age        30\n",
            "City    Delhi\n",
            "Name: 1, dtype: object\n",
            "Name    Charlie\n",
            "Age          35\n",
            "City    Chennai\n",
            "Name: 2, dtype: object\n"
          ]
        }
      ]
    },
    {
      "cell_type": "code",
      "source": [
        "#Adding a new column\n",
        "df['Salary']=[400000,500000,600000,70000]\n",
        "print(df)"
      ],
      "metadata": {
        "colab": {
          "base_uri": "https://localhost:8080/"
        },
        "id": "sj335xKq_XoQ",
        "outputId": "dec0c0ad-091f-4a36-b3f3-95ffa6aee722"
      },
      "execution_count": 43,
      "outputs": [
        {
          "output_type": "stream",
          "name": "stdout",
          "text": [
            "      Name  Age       City  Salary\n",
            "0    Alice   25  Hyderabad  400000\n",
            "1      Bob   30      Delhi  500000\n",
            "2  Charlie   35    Chennai  600000\n",
            "3    David   40     Mumbai   70000\n"
          ]
        }
      ]
    },
    {
      "cell_type": "code",
      "source": [
        "#removing a column\n",
        "df=df.drop('City',axis=1)\n",
        "print(df)"
      ],
      "metadata": {
        "colab": {
          "base_uri": "https://localhost:8080/"
        },
        "id": "LREsujix_msH",
        "outputId": "917f9028-2620-4aaf-a87a-96264e935f02"
      },
      "execution_count": 44,
      "outputs": [
        {
          "output_type": "stream",
          "name": "stdout",
          "text": [
            "      Name  Age  Salary\n",
            "0    Alice   25  400000\n",
            "1      Bob   30  500000\n",
            "2  Charlie   35  600000\n",
            "3    David   40   70000\n"
          ]
        }
      ]
    },
    {
      "cell_type": "code",
      "source": [
        "#Filtering the data\n",
        "print(df[df['Age']>30])"
      ],
      "metadata": {
        "colab": {
          "base_uri": "https://localhost:8080/"
        },
        "id": "0Urb6oWIAyoW",
        "outputId": "a8fa6b18-ab35-408d-eaf9-a98414a2213e"
      },
      "execution_count": 45,
      "outputs": [
        {
          "output_type": "stream",
          "name": "stdout",
          "text": [
            "      Name  Age  Salary\n",
            "2  Charlie   35  600000\n",
            "3    David   40   70000\n"
          ]
        }
      ]
    },
    {
      "cell_type": "code",
      "source": [
        "#Basic Statistics\n",
        "print(df['Age'].mean())\n",
        "print(df['Age'].max())\n",
        "print(df['Age'].min())"
      ],
      "metadata": {
        "colab": {
          "base_uri": "https://localhost:8080/"
        },
        "id": "NtBpYPJeBDIW",
        "outputId": "9ebf4767-4bff-44fb-ad4d-d7de459b79f8"
      },
      "execution_count": 46,
      "outputs": [
        {
          "output_type": "stream",
          "name": "stdout",
          "text": [
            "32.5\n",
            "40\n",
            "25\n"
          ]
        }
      ]
    },
    {
      "cell_type": "code",
      "source": [
        "#Student data\n",
        "import pandas as pd\n",
        "student_data={\n",
        "    'Student_id':[1,2,3,4],\n",
        "    'Name':['navs','soups','vaish','karats'],\n",
        "    'Marks':[85,90,78,92],\n",
        "    'dept':['CSE','ECE','CSE','CSE']\n",
        "    }\n",
        "df=pd.DataFrame(student_data)\n",
        "print(df)"
      ],
      "metadata": {
        "colab": {
          "base_uri": "https://localhost:8080/"
        },
        "id": "YlfbqomCCYEd",
        "outputId": "b52003c0-3193-4c70-f47b-54b187d7e727"
      },
      "execution_count": 47,
      "outputs": [
        {
          "output_type": "stream",
          "name": "stdout",
          "text": [
            "   Student_id    Name  Marks dept\n",
            "0           1    navs     85  CSE\n",
            "1           2   soups     90  ECE\n",
            "2           3   vaish     78  CSE\n",
            "3           4  karats     92  CSE\n"
          ]
        }
      ]
    },
    {
      "cell_type": "code",
      "source": [
        "import pandas as pd\n",
        "data = {\n",
        "    's-name': ['navya', 'archu', 'suppu', 'vaishu', 'karthisha'],\n",
        "    's-rollno': [1244, 1329, 1011, 1554, 2099],\n",
        "    'm1': [20, 15, 17, 18, 2],\n",
        "    'm2': [16, 8, 19, 15, 18],\n",
        "    'm3': [19, 3, 5, 17, 18]\n",
        "}\n",
        "df = pd.DataFrame(data)\n",
        "df['Total'] = df[['m1', 'm2', 'm3']].sum(axis=1)\n",
        "df['Average'] = df[['m1', 'm2', 'm3']].mean(axis=1).round(2)\n",
        "df['Result'] = df['Average'].apply(lambda x: 'A' if x >= 17 else ('B' if x >= 15 else 'C'))\n",
        "print(df)"
      ],
      "metadata": {
        "colab": {
          "base_uri": "https://localhost:8080/"
        },
        "id": "0wfs4dWxD4Ir",
        "outputId": "c108245f-db1b-4aac-d31b-7c2080d8570b"
      },
      "execution_count": 49,
      "outputs": [
        {
          "output_type": "stream",
          "name": "stdout",
          "text": [
            "      s-name  s-rollno  m1  m2  m3  Total  Average Result\n",
            "0      navya      1244  20  16  19     55    18.33      A\n",
            "1      archu      1329  15   8   3     26     8.67      C\n",
            "2      suppu      1011  17  19   5     41    13.67      C\n",
            "3     vaishu      1554  18  15  17     50    16.67      B\n",
            "4  karthisha      2099   2  18  18     38    12.67      C\n"
          ]
        }
      ]
    }
  ]
}