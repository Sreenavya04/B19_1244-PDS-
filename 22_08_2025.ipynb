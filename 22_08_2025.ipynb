{
  "nbformat": 4,
  "nbformat_minor": 0,
  "metadata": {
    "colab": {
      "provenance": [],
      "authorship_tag": "ABX9TyNJnXhs+el71eSvd1qLExKD",
      "include_colab_link": true
    },
    "kernelspec": {
      "name": "python3",
      "display_name": "Python 3"
    },
    "language_info": {
      "name": "python"
    }
  },
  "cells": [
    {
      "cell_type": "markdown",
      "metadata": {
        "id": "view-in-github",
        "colab_type": "text"
      },
      "source": [
        "<a href=\"https://colab.research.google.com/github/Sreenavya04/B19_1244-PDS-/blob/main/22_08_2025.ipynb\" target=\"_parent\"><img src=\"https://colab.research.google.com/assets/colab-badge.svg\" alt=\"Open In Colab\"/></a>"
      ]
    },
    {
      "cell_type": "code",
      "execution_count": 57,
      "metadata": {
        "colab": {
          "base_uri": "https://localhost:8080/"
        },
        "id": "mhkl8vex6T7m",
        "outputId": "3a6b0aac-1615-4b18-b2e6-c4060dd06e4b"
      },
      "outputs": [
        {
          "output_type": "stream",
          "name": "stdout",
          "text": [
            "Data written successfully!\n"
          ]
        }
      ],
      "source": [
        "#.writing to a file\n",
        "fp=open(\"example.txt\",\"w\")\n",
        "fp.write(\"hello,B.tech students!\\n\")\n",
        "fp.write(\"this is the file handling in python.\\n\")\n",
        "fp.write(\"sr university\")\n",
        "fp.write(\" navya\")\n",
        "fp.close()\n",
        "print(\"Data written successfully!\")"
      ]
    },
    {
      "cell_type": "code",
      "source": [
        "# Reading from a file\n",
        "file=open(\"example.txt\",\"r\")\n",
        "content=file.read()\n",
        "print(\"File content:\\n\",content)\n",
        "file.close()"
      ],
      "metadata": {
        "colab": {
          "base_uri": "https://localhost:8080/"
        },
        "id": "7R-jRnBQ7b2j",
        "outputId": "a4add217-b0fd-49a3-a9e3-cd777c3b4831"
      },
      "execution_count": 58,
      "outputs": [
        {
          "output_type": "stream",
          "name": "stdout",
          "text": [
            "File content:\n",
            " hello,B.tech students!\n",
            "this is the file handling in python.\n",
            "sr university navya\n"
          ]
        }
      ]
    },
    {
      "cell_type": "code",
      "source": [
        "# read line by line\n",
        "file=open(\"example.txt\",\"r\")\n",
        "line1=file.readline()\n",
        "print(\"first line:\",line1)\n",
        "line2=file.readline()\n",
        "print(\"second line:\",line2)\n",
        "line3=file.readline()\n",
        "print(\"third line:\",line3)\n",
        "file.close()"
      ],
      "metadata": {
        "colab": {
          "base_uri": "https://localhost:8080/"
        },
        "id": "-m1SyHdy9Glb",
        "outputId": "27f023dd-6123-4bd0-e04b-407123532642"
      },
      "execution_count": 59,
      "outputs": [
        {
          "output_type": "stream",
          "name": "stdout",
          "text": [
            "first line: hello,B.tech students!\n",
            "\n",
            "second line: this is the file handling in python.\n",
            "\n",
            "third line: sr university navya\n"
          ]
        }
      ]
    },
    {
      "cell_type": "code",
      "source": [
        "#6.Reading all lines into the list\n",
        "file=open(\"example.txt\",\"r\")\n",
        "lines=file.readlines()\n",
        "print(\"All lines as list:\\n\",lines)\n",
        "file.close()"
      ],
      "metadata": {
        "colab": {
          "base_uri": "https://localhost:8080/"
        },
        "id": "zyBKW8pw-gm9",
        "outputId": "ab172de3-de23-4d31-fc84-c250c1b6e5b7"
      },
      "execution_count": 60,
      "outputs": [
        {
          "output_type": "stream",
          "name": "stdout",
          "text": [
            "All lines as list:\n",
            " ['hello,B.tech students!\\n', 'this is the file handling in python.\\n', 'sr university navya']\n"
          ]
        }
      ]
    },
    {
      "cell_type": "code",
      "source": [
        "# appending data to an existing file\n",
        "file=open(\"example.txt\",\"a\")\n",
        "file.write(\"\\n Appending new data...\")\n",
        "file.close()"
      ],
      "metadata": {
        "id": "O4OM3GLC_Pm-"
      },
      "execution_count": 61,
      "outputs": []
    },
    {
      "cell_type": "code",
      "source": [
        "with open(\"example.txt\",\"r\") as file:\n",
        "    content=file.read()\n",
        "    print(content)"
      ],
      "metadata": {
        "colab": {
          "base_uri": "https://localhost:8080/"
        },
        "id": "eg2WeMLsANp1",
        "outputId": "4b2b1343-7dfc-4f30-962e-3f535e4a8977"
      },
      "execution_count": 62,
      "outputs": [
        {
          "output_type": "stream",
          "name": "stdout",
          "text": [
            "hello,B.tech students!\n",
            "this is the file handling in python.\n",
            "sr university navya\n",
            " Appending new data...\n"
          ]
        }
      ]
    },
    {
      "cell_type": "code",
      "source": [
        "import csv\n",
        "with open(\"data.csv\",\"w\",newline='')as fp:\n",
        "  wr=csv.writer(fp)\n",
        "  wr.writerows([[\"Name\",\"Age\",\"course\"],[\"Vaishu\",21,\"cse\"],[\"Karats\",20,\"cse\"],[\"Navs\",19,\"cse\"],[\"Soups\",20,\"ece\"]])"
      ],
      "metadata": {
        "id": "CkQn3PZrA6pu"
      },
      "execution_count": 63,
      "outputs": []
    },
    {
      "cell_type": "code",
      "source": [
        "#reading from csv\n",
        "with open(\"data.csv\",\"r\")as file:\n",
        "  rd=csv.reader(file)\n",
        "  for row in rd:\n",
        "    print(row)"
      ],
      "metadata": {
        "colab": {
          "base_uri": "https://localhost:8080/"
        },
        "id": "abeUO-XMChF0",
        "outputId": "73265be3-6d32-4844-99f1-794b077f1329"
      },
      "execution_count": 64,
      "outputs": [
        {
          "output_type": "stream",
          "name": "stdout",
          "text": [
            "['Name', 'Age', 'course']\n",
            "['Vaishu', '21', 'cse']\n",
            "['Karats', '20', 'cse']\n",
            "['Navs', '19', 'cse']\n",
            "['Soups', '20', 'ece']\n"
          ]
        }
      ]
    },
    {
      "cell_type": "code",
      "source": [
        "import numpy as np\n",
        "#1D ARRAY\n",
        "arr1=np.array([1,2,3,4])\n",
        "print(\"1D Array:\",arr1)\n",
        "#2D ARRAY\n",
        "arr2=np.array([[1,2,3],[4,5,6]])\n",
        "print(\"2D Array:\\n\",arr2)\n",
        "#ZEROS ARRAY\n",
        "zeros_arr=np.zeros((3,3))\n",
        "print(\"Zeros Array:\\n\",zeros_arr)\n",
        "#ONES ARRAY\n",
        "ones_arr=np.ones((2,4))\n",
        "print(\"Ones Array:\\n\",ones_arr)\n",
        "#RANGE OF NUMBERS\n",
        "range_arr=np.arange(0,10,2)\n",
        "print(\"Range Array:\",range_arr)\n",
        "#RANDOM ARRAY\n",
        "rand_arr=np.random.rand(2,3)\n",
        "print(\"Random Array:\\n\",rand_arr)\n"
      ],
      "metadata": {
        "colab": {
          "base_uri": "https://localhost:8080/"
        },
        "id": "zOrJLw5mEB2B",
        "outputId": "9a5b56f4-854b-48f6-8ff1-e3fecfd7c76c"
      },
      "execution_count": 65,
      "outputs": [
        {
          "output_type": "stream",
          "name": "stdout",
          "text": [
            "1D Array: [1 2 3 4]\n",
            "2D Array:\n",
            " [[1 2 3]\n",
            " [4 5 6]]\n",
            "Zeros Array:\n",
            " [[0. 0. 0.]\n",
            " [0. 0. 0.]\n",
            " [0. 0. 0.]]\n",
            "Ones Array:\n",
            " [[1. 1. 1. 1.]\n",
            " [1. 1. 1. 1.]]\n",
            "Range Array: [0 2 4 6 8]\n",
            "Random Array:\n",
            " [[0.33565135 0.89442191 0.2927916 ]\n",
            " [0.61740723 0.47957893 0.88371064]]\n"
          ]
        }
      ]
    },
    {
      "cell_type": "code",
      "source": [
        "#Attributes\n",
        "arr=np.array([[1,2,3,4],[5,6,7,8]])\n",
        "print(\"Shape:\",arr.shape)\n",
        "print(\"Dimension:\",arr.ndim)\n",
        "print(\"Datatype:\",arr.dtype)\n",
        "print(\"Size:\",arr.size)\n",
        "print(\"Item size:\",arr.itemsize)"
      ],
      "metadata": {
        "colab": {
          "base_uri": "https://localhost:8080/"
        },
        "id": "qe00cFThGOcY",
        "outputId": "355ad803-0451-496e-ef01-bb3db01099f5"
      },
      "execution_count": 66,
      "outputs": [
        {
          "output_type": "stream",
          "name": "stdout",
          "text": [
            "Shape: (2, 4)\n",
            "Dimension: 2\n",
            "Datatype: int64\n",
            "Size: 8\n",
            "Item size: 8\n"
          ]
        }
      ]
    },
    {
      "cell_type": "code",
      "source": [
        "arr=np.array([10,20,30,40,50])\n",
        "print(\"First element:\",arr[0])\n",
        "print(\"Last element:\",arr[-1])\n",
        "print(\"Slice [1:4]:\",arr[1:4])\n",
        "print(\"Every second element:\",arr[::2])\n",
        "#2D indexing\n",
        "arr2d=np.array([[1,2,3],[4,5,6],[7,8,9]])\n",
        "print(\"Element at (1,2):\",arr2d[0,1])\n",
        "print(\"Second row:\",arr2d[1,:])\n",
        "print(\"Second column:\",arr2d[:,1])"
      ],
      "metadata": {
        "colab": {
          "base_uri": "https://localhost:8080/"
        },
        "id": "u3_7QodXHcBP",
        "outputId": "0d1ff027-d310-42ae-bcaf-110c95ae1051"
      },
      "execution_count": 67,
      "outputs": [
        {
          "output_type": "stream",
          "name": "stdout",
          "text": [
            "First element: 10\n",
            "Last element: 50\n",
            "Slice [1:4]: [20 30 40]\n",
            "Every second element: [10 30 50]\n",
            "Element at (1,2): 2\n",
            "Second row: [4 5 6]\n",
            "Second column: [2 5 8]\n"
          ]
        }
      ]
    },
    {
      "cell_type": "code",
      "source": [
        "#Array operations\n",
        "a=np.array([1,2,3])\n",
        "b=np.array([4,5,6])\n",
        "print(\"Addition:\",a+b)\n",
        "print(\"Subtraction:\",a-b)\n",
        "print(\"Multiplication:\",a*b)\n",
        "print(\"Division:\",a/b)\n",
        "print(\"power:\",a**2)"
      ],
      "metadata": {
        "colab": {
          "base_uri": "https://localhost:8080/"
        },
        "id": "D0e44eEnPqt4",
        "outputId": "079d7116-e71b-42ad-8395-a4179b5b32dc"
      },
      "execution_count": 68,
      "outputs": [
        {
          "output_type": "stream",
          "name": "stdout",
          "text": [
            "Addition: [5 7 9]\n",
            "Subtraction: [-3 -3 -3]\n",
            "Multiplication: [ 4 10 18]\n",
            "Division: [0.25 0.4  0.5 ]\n",
            "power: [1 4 9]\n"
          ]
        }
      ]
    },
    {
      "cell_type": "code",
      "source": [
        "#mathematical functions\n",
        "arr=np.array([0,np.pi/2,np.pi,4*np.pi/3])\n",
        "print(\"Sin values:\",np.sin(arr))\n",
        "print(\"Cos values:\",np.cos(arr))\n",
        "print(\"square root:\",np.sqrt(arr))"
      ],
      "metadata": {
        "colab": {
          "base_uri": "https://localhost:8080/"
        },
        "id": "REB1CXlqQk1Z",
        "outputId": "794d5451-7b28-4116-dec9-bd18990df69b"
      },
      "execution_count": 69,
      "outputs": [
        {
          "output_type": "stream",
          "name": "stdout",
          "text": [
            "Sin values: [ 0.00000000e+00  1.00000000e+00  1.22464680e-16 -8.66025404e-01]\n",
            "Cos values: [ 1.000000e+00  6.123234e-17 -1.000000e+00 -5.000000e-01]\n",
            "square root: [0.         1.25331414 1.77245385 2.04665342]\n"
          ]
        }
      ]
    },
    {
      "cell_type": "code",
      "source": [
        "#Aggregate functions\n",
        "arr=np.array([[1,2,3],[4,5,6]])\n",
        "print(\"sum:\",np.sum(arr))\n",
        "print(\"max:\",np.max(arr))\n",
        "print(\"min:\",np.min(arr))\n",
        "print(\"mean:\",np.mean(arr))\n",
        "print(\"standard deviation:\",np.std(arr))\n",
        "print(\"sum along axis 0:\",np.sum(arr,axis=0))\n",
        "print(\"sum along axis 1:\",np.sum(arr,axis=1))"
      ],
      "metadata": {
        "colab": {
          "base_uri": "https://localhost:8080/"
        },
        "id": "dsnxX5IaRDGA",
        "outputId": "6af86b9c-2bbb-444e-e080-a9ee4888ba76"
      },
      "execution_count": 70,
      "outputs": [
        {
          "output_type": "stream",
          "name": "stdout",
          "text": [
            "sum: 21\n",
            "max: 6\n",
            "min: 1\n",
            "mean: 3.5\n",
            "standard deviation: 1.707825127659933\n",
            "sum along axis 0: [5 7 9]\n",
            "sum along axis 1: [ 6 15]\n"
          ]
        }
      ]
    },
    {
      "cell_type": "code",
      "source": [
        "#Broadcasting\n",
        "a=np.array([1,2,3])\n",
        "b=5\n",
        "print(\"add scalar to array:\",a+b)\n",
        "c=np.array([[1],[2],[3]])\n",
        "d=np.array([4,5,6])\n",
        "print(\"Broadcasted sum:\\n\",c+d)"
      ],
      "metadata": {
        "colab": {
          "base_uri": "https://localhost:8080/"
        },
        "id": "zLqPi-uhSe49",
        "outputId": "d6e99aa2-54da-4431-cc58-a911260771e2"
      },
      "execution_count": 71,
      "outputs": [
        {
          "output_type": "stream",
          "name": "stdout",
          "text": [
            "add scalar to array: [6 7 8]\n",
            "Broadcasted sum:\n",
            " [[5 6 7]\n",
            " [6 7 8]\n",
            " [7 8 9]]\n"
          ]
        }
      ]
    },
    {
      "cell_type": "code",
      "source": [
        "A=np.array([[1,2],[3,4]])\n",
        "B=np.array([[5,6],[7,8]])\n",
        "print(\"Matrix Multiplicatiion:\\n\",np.dot(A,B))\n",
        "print(\"Transpose:\\n\",A.T)\n",
        "print(\"Inverse:\\n\",np.linalg.inv(A))\n",
        "print(\"Determinant:\",np.linalg.det(A))"
      ],
      "metadata": {
        "colab": {
          "base_uri": "https://localhost:8080/"
        },
        "id": "9b3G-tmzTTWt",
        "outputId": "6067a091-1a56-49c3-af42-55b3f4da4b4c"
      },
      "execution_count": 72,
      "outputs": [
        {
          "output_type": "stream",
          "name": "stdout",
          "text": [
            "Matrix Multiplicatiion:\n",
            " [[19 22]\n",
            " [43 50]]\n",
            "Transpose:\n",
            " [[1 3]\n",
            " [2 4]]\n",
            "Inverse:\n",
            " [[-2.   1. ]\n",
            " [ 1.5 -0.5]]\n",
            "Determinant: -2.0000000000000004\n"
          ]
        }
      ]
    },
    {
      "cell_type": "code",
      "source": [
        "import numpy as np\n",
        "\n",
        "# Marks of students in 3 subjects\n",
        "marks = np.array([\n",
        "    [85, 90, 88],\n",
        "    [78, 81, 85],\n",
        "    [92, 89, 95]\n",
        "])\n",
        "\n",
        "print(\"Average marks per student:\", np.mean(marks, axis=1))\n",
        "print(\"Average marks per subject:\", np.mean(marks, axis=0))\n",
        "print(\"Highest marks in each subject:\", np.max(marks, axis=0))\n",
        "print(\"Lowest marks in each subject:\", np.min(marks, axis=0))"
      ],
      "metadata": {
        "colab": {
          "base_uri": "https://localhost:8080/"
        },
        "id": "wft10CTOV-TM",
        "outputId": "7c64daf4-c537-4a62-a89d-e1f774bb52c5"
      },
      "execution_count": 73,
      "outputs": [
        {
          "output_type": "stream",
          "name": "stdout",
          "text": [
            "Average marks per student: [87.66666667 81.33333333 92.        ]\n",
            "Average marks per subject: [85.         86.66666667 89.33333333]\n",
            "Highest marks in each subject: [92 90 95]\n",
            "Lowest marks in each subject: [78 81 85]\n"
          ]
        }
      ]
    }
  ]
}