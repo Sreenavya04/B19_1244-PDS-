{
  "nbformat": 4,
  "nbformat_minor": 0,
  "metadata": {
    "colab": {
      "provenance": [],
      "authorship_tag": "ABX9TyNlCU1ngnzEZm0QSbFo7JDo",
      "include_colab_link": true
    },
    "kernelspec": {
      "name": "python3",
      "display_name": "Python 3"
    },
    "language_info": {
      "name": "python"
    }
  },
  "cells": [
    {
      "cell_type": "markdown",
      "metadata": {
        "id": "view-in-github",
        "colab_type": "text"
      },
      "source": [
        "<a href=\"https://colab.research.google.com/github/Sreenavya04/B19_1244-PDS-/blob/main/12_09_2025.ipynb\" target=\"_parent\"><img src=\"https://colab.research.google.com/assets/colab-badge.svg\" alt=\"Open In Colab\"/></a>"
      ]
    },
    {
      "cell_type": "code",
      "execution_count": 2,
      "metadata": {
        "colab": {
          "base_uri": "https://localhost:8080/"
        },
        "id": "gKZg5lS3FFzR",
        "outputId": "1bdb7c15-0032-44b5-b9d6-524a100b4b02"
      },
      "outputs": [
        {
          "output_type": "stream",
          "name": "stdout",
          "text": [
            "Orginal DataFrame:\n",
            "       Name   Age  Marks\n",
            "0  srikanth  25.0   85.0\n",
            "1      navs   NaN   90.0\n",
            "2    chinni  30.0    NaN\n",
            "3     pappa  28.0   92.0\n",
            "    Name    Age  Marks\n",
            "0  False  False  False\n",
            "1  False   True  False\n",
            "2  False  False   True\n",
            "3  False  False  False\n"
          ]
        }
      ],
      "source": [
        "import pandas as pd\n",
        "import numpy as np\n",
        "data={\n",
        "    'Name':['srikanth','navs','chinni','pappa'],\n",
        "    'Age':[25,np.nan,30,28],\n",
        "    'Marks':[85,90,np.nan,92]\n",
        "}\n",
        "df=pd.DataFrame(data)\n",
        "print(\"Orginal DataFrame:\")\n",
        "print(df)\n",
        "#detect missing values\n",
        "print(df.isnull())"
      ]
    },
    {
      "cell_type": "code",
      "source": [
        "#drop rows and missing values\n",
        "df_dropped=df.dropna()\n",
        "print(\"After dropping rows with Nan\")\n",
        "print(df_dropped)"
      ],
      "metadata": {
        "colab": {
          "base_uri": "https://localhost:8080/"
        },
        "id": "X3JixX_tFdg2",
        "outputId": "ae9838ec-9511-4303-8bee-1a38f49123a5"
      },
      "execution_count": 3,
      "outputs": [
        {
          "output_type": "stream",
          "name": "stdout",
          "text": [
            "After dropping rows with Nan\n",
            "       Name   Age  Marks\n",
            "0  srikanth  25.0   85.0\n",
            "3     pappa  28.0   92.0\n"
          ]
        }
      ]
    },
    {
      "cell_type": "code",
      "source": [
        "df_filled=df.fillna(0)\n",
        "print(\"filled with 0.\")\n",
        "print(df_filled)\n",
        "df['Age']=df['Age'].fillna(df['Age'].mean())\n",
        "df['Marks']=df['Marks'].fillna(df['Marks'].mean())\n",
        "\n",
        "print(df)"
      ],
      "metadata": {
        "colab": {
          "base_uri": "https://localhost:8080/"
        },
        "id": "toYAKoA7HP1H",
        "outputId": "bc2e7a5f-59c7-442b-c094-a58efd218a98"
      },
      "execution_count": 5,
      "outputs": [
        {
          "output_type": "stream",
          "name": "stdout",
          "text": [
            "filled with 0.\n",
            "       Name   Age  Marks\n",
            "0  srikanth  25.0   85.0\n",
            "1      navs   0.0   90.0\n",
            "2    chinni  30.0    0.0\n",
            "3     pappa  28.0   92.0\n",
            "       Name        Age  Marks\n",
            "0  srikanth  25.000000   85.0\n",
            "1      navs  27.666667   90.0\n",
            "2    chinni  30.000000   89.0\n",
            "3     pappa  28.000000   92.0\n"
          ]
        }
      ]
    },
    {
      "cell_type": "code",
      "source": [
        "data={\n",
        "    'ID':[1,2,3,4,],\n",
        "    'Name':['srikanth','navs','chinni','pappa'],\n",
        "    'Marks':[85,90,89,92]\n",
        "}\n",
        "df=pd.DataFrame(data)\n",
        "print(\"Orginal DataFrame:\")\n",
        "print(df)\n",
        "#remove duplicate\n",
        "df_no_dup=df.drop_duplicates(subset='ID')\n",
        "print(\"After removing duplicates:\")\n",
        "print(df_no_dup)\n"
      ],
      "metadata": {
        "colab": {
          "base_uri": "https://localhost:8080/"
        },
        "id": "LrocbWEBJEOm",
        "outputId": "553bd1d9-f742-4e79-a0a2-a785c9978aa4"
      },
      "execution_count": 7,
      "outputs": [
        {
          "output_type": "stream",
          "name": "stdout",
          "text": [
            "Orginal DataFrame:\n",
            "   ID      Name  Marks\n",
            "0   1  srikanth     85\n",
            "1   2      navs     90\n",
            "2   3    chinni     89\n",
            "3   4     pappa     92\n",
            "After removing duplicates:\n",
            "   ID      Name  Marks\n",
            "0   1  srikanth     85\n",
            "1   2      navs     90\n",
            "2   3    chinni     89\n",
            "3   4     pappa     92\n"
          ]
        }
      ]
    },
    {
      "cell_type": "code",
      "source": [
        "# data transformation\n",
        "data={\n",
        "    'ID':['1','2','3','4'],\n",
        "    'Name':['srikanth','navs','chinni','pappa'],\n",
        "    'Marks':[85,90,89,92] # Added Marks column\n",
        "}\n",
        "df=pd.DataFrame(data)\n",
        "print(\"Original data types.\")\n",
        "print(df.dtypes)\n",
        "#convert to numeric\n",
        "df['ID']=pd.to_numeric(df['ID'])\n",
        "print(\"After converting to numeric:\")\n",
        "print(df)\n",
        "print(df.dtypes)\n",
        "# applying functions\n",
        "df['Marks']=df['Marks'].apply(lambda x:x+5)\n",
        "print(\"After adding 5 marks to each student:\")\n",
        "print(df)\n",
        "# Normalization\n",
        "df['Marks_Normalized']=(df['Marks']-df['Marks'].min())/(df['Marks'].max()-df['Marks'].min()) # Corrected column name\n",
        "print(\"After Normalization:\")\n",
        "print(df)"
      ],
      "metadata": {
        "colab": {
          "base_uri": "https://localhost:8080/"
        },
        "id": "-cctIugDKaux",
        "outputId": "76825e6a-cafb-4989-e74a-4af30f05e87b"
      },
      "execution_count": 20,
      "outputs": [
        {
          "output_type": "stream",
          "name": "stdout",
          "text": [
            "Original data types.\n",
            "ID       object\n",
            "Name     object\n",
            "Marks     int64\n",
            "dtype: object\n",
            "After converting to numeric:\n",
            "   ID      Name  Marks\n",
            "0   1  srikanth     85\n",
            "1   2      navs     90\n",
            "2   3    chinni     89\n",
            "3   4     pappa     92\n",
            "ID        int64\n",
            "Name     object\n",
            "Marks     int64\n",
            "dtype: object\n",
            "After adding 5 marks to each student:\n",
            "   ID      Name  Marks\n",
            "0   1  srikanth     90\n",
            "1   2      navs     95\n",
            "2   3    chinni     94\n",
            "3   4     pappa     97\n",
            "After Normalization:\n",
            "   ID      Name  Marks  Marks_Normalized\n",
            "0   1  srikanth     90          0.000000\n",
            "1   2      navs     95          0.714286\n",
            "2   3    chinni     94          0.571429\n",
            "3   4     pappa     97          1.000000\n"
          ]
        }
      ]
    },
    {
      "cell_type": "code",
      "source": [
        "# data transformation\n",
        "data={\n",
        "    'ID':['1','2','3','4'],\n",
        "    'Name':['srikanth','navs','chinni','pappa'],\n",
        "    'Marks':[85,90,89,92]\n",
        "}\n",
        "df=pd.DataFrame(data)\n",
        "\n",
        "# convert 'ID' to numeric\n",
        "df['ID']=pd.to_numeric(df['ID'])\n",
        "\n",
        "# applying functions\n",
        "df['Marks']=df['Marks'].apply(lambda x:x+5)\n",
        "print(\"After adding 5 marks to each student:\")\n",
        "print(df)"
      ],
      "metadata": {
        "colab": {
          "base_uri": "https://localhost:8080/"
        },
        "id": "AWBLaFyFLdaX",
        "outputId": "e161558d-e192-4ff7-a203-f95c51630d35"
      },
      "execution_count": 17,
      "outputs": [
        {
          "output_type": "stream",
          "name": "stdout",
          "text": [
            "After adding 5 marks to each student:\n",
            "   ID      Name  Marks\n",
            "0   1  srikanth     90\n",
            "1   2      navs     95\n",
            "2   3    chinni     94\n",
            "3   4     pappa     97\n"
          ]
        }
      ]
    },
    {
      "cell_type": "code",
      "source": [
        "df['Marks_Normalized']=(df['Marks']-df['Marks'].min())/(df['Marks'].max()-df['Marks'].min())\n",
        "print(df)"
      ],
      "metadata": {
        "colab": {
          "base_uri": "https://localhost:8080/"
        },
        "id": "jQKDDzROVsJY",
        "outputId": "6c02c652-ac52-4744-ea67-692a181de926"
      },
      "execution_count": 21,
      "outputs": [
        {
          "output_type": "stream",
          "name": "stdout",
          "text": [
            "   ID      Name  Marks  Marks_Normalized\n",
            "0   1  srikanth     90          0.000000\n",
            "1   2      navs     95          0.714286\n",
            "2   3    chinni     94          0.571429\n",
            "3   4     pappa     97          1.000000\n"
          ]
        }
      ]
    },
    {
      "cell_type": "code",
      "source": [
        "import pandas as pd\n",
        "students=pd.DataFrame({\n",
        "    'Student_ID':[101,102,103,104],\n",
        "    'Name':['Ravi','Neha','Kiran','Sita']\n",
        "})\n",
        "#Marks Data\n",
        "marks=pd.DataFrame({\n",
        "    'Student_ID':[101,102,103,105],\n",
        "    'Marks':[85,90,78,88]\n",
        "})\n",
        "merged_df=pd.merge(students,marks,on='Student_ID')\n",
        "print(merged_df)"
      ],
      "metadata": {
        "colab": {
          "base_uri": "https://localhost:8080/"
        },
        "id": "sDW1uK4PhMdJ",
        "outputId": "68d1da80-24af-42d8-e936-b5840569ef58"
      },
      "execution_count": 22,
      "outputs": [
        {
          "output_type": "stream",
          "name": "stdout",
          "text": [
            "   Student_ID   Name  Marks\n",
            "0         101   Ravi     85\n",
            "1         102   Neha     90\n",
            "2         103  Kiran     78\n"
          ]
        }
      ]
    },
    {
      "cell_type": "code",
      "source": [
        "#Inner join\n",
        "inner=pd.merge(students,marks,on='Student_ID',how='inner')\n",
        "print(inner)\n",
        "#left join\n",
        "left=pd.merge(students,marks,on='Student_ID',how='left')\n",
        "print(left)\n",
        "#right join\n",
        "right=pd.merge(students,marks,on='Student_ID',how='right')\n",
        "print(right)\n",
        "#outer join\n",
        "outer=pd.merge(students,marks,on='Student_ID',how='outer')\n",
        "print(outer)"
      ],
      "metadata": {
        "colab": {
          "base_uri": "https://localhost:8080/"
        },
        "id": "01wRvvNdhPJF",
        "outputId": "a0d41730-315a-461d-b382-bf598521c548"
      },
      "execution_count": 23,
      "outputs": [
        {
          "output_type": "stream",
          "name": "stdout",
          "text": [
            "   Student_ID   Name  Marks\n",
            "0         101   Ravi     85\n",
            "1         102   Neha     90\n",
            "2         103  Kiran     78\n",
            "   Student_ID   Name  Marks\n",
            "0         101   Ravi   85.0\n",
            "1         102   Neha   90.0\n",
            "2         103  Kiran   78.0\n",
            "3         104   Sita    NaN\n",
            "   Student_ID   Name  Marks\n",
            "0         101   Ravi     85\n",
            "1         102   Neha     90\n",
            "2         103  Kiran     78\n",
            "3         105    NaN     88\n",
            "   Student_ID   Name  Marks\n",
            "0         101   Ravi   85.0\n",
            "1         102   Neha   90.0\n",
            "2         103  Kiran   78.0\n",
            "3         104   Sita    NaN\n",
            "4         105    NaN   88.0\n"
          ]
        }
      ]
    }
  ]
}