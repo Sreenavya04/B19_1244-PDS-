{
  "nbformat": 4,
  "nbformat_minor": 0,
  "metadata": {
    "colab": {
      "provenance": [],
      "authorship_tag": "ABX9TyPSrBqqah56NOQPQguZcGvJ",
      "include_colab_link": true
    },
    "kernelspec": {
      "name": "python3",
      "display_name": "Python 3"
    },
    "language_info": {
      "name": "python"
    }
  },
  "cells": [
    {
      "cell_type": "markdown",
      "metadata": {
        "id": "view-in-github",
        "colab_type": "text"
      },
      "source": [
        "<a href=\"https://colab.research.google.com/github/Sreenavya04/B19_1244-PDS-/blob/main/LAB_01.ipynb\" target=\"_parent\"><img src=\"https://colab.research.google.com/assets/colab-badge.svg\" alt=\"Open In Colab\"/></a>"
      ]
    },
    {
      "cell_type": "code",
      "execution_count": 2,
      "metadata": {
        "colab": {
          "base_uri": "https://localhost:8080/"
        },
        "id": "_LFTL_iOHUZh",
        "outputId": "c2d605ae-2874-4a49-c22b-2cf402a27d82"
      },
      "outputs": [
        {
          "output_type": "stream",
          "name": "stdout",
          "text": [
            "enter a number:5\n",
            "120\n"
          ]
        }
      ],
      "source": [
        "def fact(x):\n",
        "  fact=1\n",
        "  for i in range(1,x+1):\n",
        "    fact=fact*i\n",
        "  return fact\n",
        "n=int(input(\"enter a number:\"))\n",
        "print(fact(n))"
      ]
    }
  ]
}